{
 "cells": [
  {
   "cell_type": "markdown",
   "metadata": {},
   "source": [
    "# 분수찾기\n",
    "\n",
    "# 문제\n",
    "\n",
    "무한히 큰 배열에 다음과 같이 분수들이 적혀있다.\n",
    "\n",
    "| 1/1 | 1/2 | 1/3 | 1/4 | 1/5 | … |\n",
    "|-----|-----|-----|-----|-----|---|\n",
    "| 2/1 | 2/2 | 2/3 | 2/4 | …   | … |\n",
    "| 3/1 | 3/2 | 3/3 | …   | …   | … |\n",
    "| 4/1 | 4/2 | …   | …   | …   | … |\n",
    "| 5/1 | …   | …   | …   | …   | … |\n",
    "| …   | …   | …   | …   | …   | … |\n",
    "\n",
    "이와 같이 나열된 분수들을 1/1 -> 1/2 -> 2/1 -> 3/1 -> 2/2 -> … 과 같은 지그재그 순서로 차례대로 1번, 2번, 3번, 4번, 5번, … 분수라고 하자.\n",
    "\n",
    "X가 주어졌을 때, X번째 분수를 구하는 프로그램을 작성하시오.\n",
    "\n",
    "# 입력\n",
    "\n",
    "첫째 줄에 X(1 ≤ X ≤ 10,000,000)가 주어진다.\n",
    "\n",
    "# 출력\n",
    "\n",
    "첫째 줄에 분수를 출력한다.\n",
    "\n",
    "# 예제\n",
    "\n",
    "| 입력 | 출력 |\n",
    "|-|-|\n",
    "|14|2/4|\n",
    "\n",
    "출처: https://www.acmicpc.net/problem/1193"
   ]
  },
  {
   "cell_type": "code",
   "execution_count": 4,
   "metadata": {
    "scrolled": true
   },
   "outputs": [
    {
     "name": "stdout",
     "output_type": "stream",
     "text": [
      "2/4\n"
     ]
    }
   ],
   "source": [
    "# 풀이 참고한 곳 : https://yoonsang-it.tistory.com/27\n",
    "\n",
    "def find_fraction(X):\n",
    "    n = 0\n",
    "    count = 0\n",
    "    while count < X:\n",
    "        n += 1\n",
    "        count += n\n",
    "        \n",
    "    count -= n\n",
    "    \n",
    "    if n % 2 == 0:\n",
    "        print(f'{X - count}/{n - X + count + 1}')\n",
    "    else:\n",
    "        print(f'{n - X + count + 1}/{X - count}')\n",
    "    \n",
    "find_fraction(14)"
   ]
  }
 ],
 "metadata": {
  "kernelspec": {
   "display_name": "Python 3",
   "language": "python",
   "name": "python3"
  },
  "language_info": {
   "codemirror_mode": {
    "name": "ipython",
    "version": 3
   },
   "file_extension": ".py",
   "mimetype": "text/x-python",
   "name": "python",
   "nbconvert_exporter": "python",
   "pygments_lexer": "ipython3",
   "version": "3.8.7"
  },
  "toc": {
   "base_numbering": 1,
   "nav_menu": {},
   "number_sections": true,
   "sideBar": true,
   "skip_h1_title": false,
   "title_cell": "Table of Contents",
   "title_sidebar": "Contents",
   "toc_cell": false,
   "toc_position": {},
   "toc_section_display": true,
   "toc_window_display": false
  }
 },
 "nbformat": 4,
 "nbformat_minor": 4
}
