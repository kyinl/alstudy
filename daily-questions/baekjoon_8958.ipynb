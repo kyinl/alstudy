{
 "cells": [
  {
   "cell_type": "markdown",
   "metadata": {},
   "source": [
    "# OX퀴즈\n",
    "\n",
    "# 문제\n",
    "\n",
    "\"OOXXOXXOOO\"와 같은 OX퀴즈의 결과가 있다. O는 문제를 맞은 것이고, X는 문제를 틀린 것이다. 문제를 맞은 경우 그 문제의 점수는 그 문제까지 연속된 O의 개수가 된다. 예를 들어, 10번 문제의 점수는 3이 된다.\n",
    "\n",
    "\"OOXXOXXOOO\"의 점수는 1+2+0+0+1+0+0+1+2+3 = 10점이다.\n",
    "\n",
    "OX퀴즈의 결과가 주어졌을 때, 점수를 구하는 프로그램을 작성하시오.\n",
    "\n",
    "# 입력\n",
    "\n",
    "첫째 줄에 테스트 케이스의 개수가 주어진다. 각 테스트 케이스는 한 줄로 이루어져 있고, 길이가 0보다 크고 80보다 작은 문자열이 주어진다. 문자열은 O와 X만으로 이루어져 있다.\n",
    "\n",
    "# 출력\n",
    "\n",
    "각 테스트 케이스마다 점수를 출력한다.\n",
    "\n",
    "# 예제 입력 1\n",
    "\n",
    "5\n",
    "\n",
    "OOXXOXXOOO\n",
    "\n",
    "OOXXOOXXOO\n",
    "\n",
    "OXOXOXOXOXOXOX\n",
    "\n",
    "OOOOOOOOOO\n",
    "\n",
    "OOOOXOOOOXOOOOX\n",
    "\n",
    "# 예제 출력 1\n",
    "\n",
    "10\n",
    "\n",
    "9\n",
    "\n",
    "7\n",
    "\n",
    "55\n",
    "\n",
    "30\n",
    "\n",
    "출처: https://www.acmicpc.net/problem/8958"
   ]
  },
  {
   "cell_type": "code",
   "execution_count": 18,
   "metadata": {},
   "outputs": [
    {
     "name": "stdout",
     "output_type": "stream",
     "text": [
      "10\n",
      "9\n",
      "7\n",
      "55\n",
      "30\n"
     ]
    }
   ],
   "source": [
    "def oxquiz(n, *args):\n",
    "    # 결과를 담을 변수 선언\n",
    "    result = 0\n",
    "    # n개의 ox 결과들 중에서\n",
    "    for arg in args:\n",
    "        # o의 갯수를 담을 변수 선언\n",
    "        count = 0\n",
    "        # ox 결과 중에서\n",
    "        for ox in arg:\n",
    "            # O라면 count에 1을 더해준다\n",
    "            if ox == 'O':\n",
    "                count += 1\n",
    "            else:\n",
    "                # X를 만난 순간 1부터 count까지의 합을 결과에 더해주고, count를 0으로 리셋한다.\n",
    "                result += sum([i for i in range(1, count + 1)])\n",
    "                count = 0\n",
    "        # 하나의 OX퀴즈 결과의 for문이 다 돌아가면, 마지막이 O로 끝나는 경우를 고려하기 위해 result에 동일한 방식으로 더해줌.\n",
    "        result += sum([i for i in range(1, count + 1)])\n",
    "        # 각 결과별로 출력\n",
    "        print(result)\n",
    "        # result 변수를 다음 결과에 사용하기 위해 0으로 리셋.\n",
    "        result = 0\n",
    "    # 특정 값을 반환하지는 않는다.\n",
    "oxquiz(5, 'OOXXOXXOOO', 'OOXXOOXXOO', 'OXOXOXOXOXOXOX', 'OOOOOOOOOO', 'OOOOXOOOOXOOOOX' )\n",
    "        "
   ]
  }
 ],
 "metadata": {
  "kernelspec": {
   "display_name": "Python 3",
   "language": "python",
   "name": "python3"
  },
  "language_info": {
   "codemirror_mode": {
    "name": "ipython",
    "version": 3
   },
   "file_extension": ".py",
   "mimetype": "text/x-python",
   "name": "python",
   "nbconvert_exporter": "python",
   "pygments_lexer": "ipython3",
   "version": "3.8.7"
  },
  "toc": {
   "base_numbering": 1,
   "nav_menu": {},
   "number_sections": true,
   "sideBar": true,
   "skip_h1_title": false,
   "title_cell": "Table of Contents",
   "title_sidebar": "Contents",
   "toc_cell": false,
   "toc_position": {},
   "toc_section_display": true,
   "toc_window_display": false
  }
 },
 "nbformat": 4,
 "nbformat_minor": 4
}
