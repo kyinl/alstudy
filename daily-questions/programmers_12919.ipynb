{
 "cells": [
  {
   "cell_type": "markdown",
   "metadata": {},
   "source": [
    "# 서울에서 김서방 찾기\n",
    "\n",
    "# 문제 설명\n",
    "\n",
    "String형 배열 seoul의 element중 \"Kim\" 의 위치 x를 찾아, \"김서방은 x에 있다\"는 String을 반환하는 함수, solution을 완성하세요. seoul에 \"Kim\"은 오직 한 번만 나타나며 잘못된 값이 입력되는 경우는 없습니다.\n",
    "\n",
    "# 제한 사항\n",
    "\n",
    "seoul은 길이 1 이상, 1000 이하인 배열입니다.\n",
    "seoul의 원소는 길이 1 이상, 20 이하인 문자열입니다.\n",
    "\"Kim\" 은 반드시 seoul 안에 포함되어 있습니다.\n",
    "\n",
    "# 입출력 예\n",
    "\n",
    "|  입력 | 출력  |\n",
    "|---|---|\n",
    "| \"Jane\", \"Kim\"  | \"김서방은 1에 있다\"  |\n",
    "\n",
    "출처: https://programmers.co.kr/learn/courses/30/lessons/12919\n"
   ]
  },
  {
   "cell_type": "code",
   "execution_count": 4,
   "metadata": {},
   "outputs": [
    {
     "data": {
      "text/plain": [
       "'김서방은 1에 있다'"
      ]
     },
     "execution_count": 4,
     "metadata": {},
     "output_type": "execute_result"
    }
   ],
   "source": [
    "def solution(seoul):\n",
    "    answer = ''\n",
    "    for index in range(len(seoul)):\n",
    "        if seoul[index] == 'Kim':\n",
    "            answer = index\n",
    "    return f'김서방은 {answer}에 있다'\n",
    "solution(['jane', 'Kim'])"
   ]
  }
 ],
 "metadata": {
  "kernelspec": {
   "display_name": "Python 3",
   "language": "python",
   "name": "python3"
  },
  "language_info": {
   "codemirror_mode": {
    "name": "ipython",
    "version": 3
   },
   "file_extension": ".py",
   "mimetype": "text/x-python",
   "name": "python",
   "nbconvert_exporter": "python",
   "pygments_lexer": "ipython3",
   "version": "3.8.7"
  },
  "toc": {
   "base_numbering": 1,
   "nav_menu": {},
   "number_sections": true,
   "sideBar": true,
   "skip_h1_title": false,
   "title_cell": "Table of Contents",
   "title_sidebar": "Contents",
   "toc_cell": false,
   "toc_position": {},
   "toc_section_display": true,
   "toc_window_display": false
  }
 },
 "nbformat": 4,
 "nbformat_minor": 4
}
