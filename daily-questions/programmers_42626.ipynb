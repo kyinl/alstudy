{
 "cells": [
  {
   "cell_type": "markdown",
   "metadata": {},
   "source": [
    "# 더 맵게\n",
    "\n",
    "# 문제 설명\n",
    "\n",
    "매운 것을 좋아하는 Leo는 모든 음식의 스코빌 지수를 K 이상으로 만들고 싶습니다. 모든 음식의 스코빌 지수를 K 이상으로 만들기 위해 Leo는 스코빌 지수가 가장 낮은 두 개의 음식을 아래와 같이 특별한 방법으로 섞어 새로운 음식을 만듭니다.\n",
    "\n",
    "`섞은 음식의 스코빌 지수 = 가장 맵지 않은 음식의 스코빌 지수 + (두 번째로 맵지 않은 음식의 스코빌 지수 * 2)`\n",
    "\n",
    "Leo는 모든 음식의 스코빌 지수가 K 이상이 될 때까지 반복하여 섞습니다.\n",
    "Leo가 가진 음식의 스코빌 지수를 담은 배열 scoville과 원하는 스코빌 지수 K가 주어질 때, 모든 음식의 스코빌 지수를 K 이상으로 만들기 위해 섞어야 하는 최소 횟수를 return 하도록 solution 함수를 작성해주세요.\n",
    "\n",
    "# 제한 사항\n",
    "\n",
    "- scoville의 길이는 2 이상 1,000,000 이하입니다.\n",
    "- K는 0 이상 1,000,000,000 이하입니다.\n",
    "- scoville의 원소는 각각 0 이상 1,000,000 이하입니다.\n",
    "- 모든 음식의 스코빌 지수를 K 이상으로 만들 수 없는 경우에는 -1을 return 합니다.\n",
    "\n",
    "# 입출력 예\n",
    "|scoville | K | return|\n",
    "|--------|---|--------|\n",
    "| [1, 2, 3, 9, 10, 12] | 7 | 2 |\n",
    "\n",
    "\n",
    "# 입출력 예 설명\n",
    "\n",
    "1. 스코빌 지수가 1인 음식과 2인 음식을 섞으면 음식의 스코빌 지수가 아래와 같이 됩니다.\n",
    "새로운 음식의 스코빌 지수 = 1 + (2 * 2) = 5\n",
    "가진 음식의 스코빌 지수 = [5, 3, 9, 10, 12]\n",
    "\n",
    "2. 스코빌 지수가 3인 음식과 5인 음식을 섞으면 음식의 스코빌 지수가 아래와 같이 됩니다.\n",
    "새로운 음식의 스코빌 지수 = 3 + (5 * 2) = 13\n",
    "가진 음식의 스코빌 지수 = [13, 9, 10, 12]\n",
    "\n",
    "모든 음식의 스코빌 지수가 7 이상이 되었고 이때 섞은 횟수는 2회입니다.\n",
    "\n",
    "출처: https://programmers.co.kr/learn/courses/30/lessons/42626"
   ]
  },
  {
   "cell_type": "code",
   "execution_count": 1,
   "metadata": {},
   "outputs": [],
   "source": [
    "def solution(scoville, K):\n",
    "    result = 0\n",
    "    count = 0\n",
    "    sorted_scoville = sorted(scoville)\n",
    "    # 정렬된 스코빌 리스트의 길이가 1 이상일 때,\n",
    "    while len(sorted_scoville) >= 1:\n",
    "        # 정렬된 스코빌 리스트의 모든 항목들이 K 이상이면 루프를 탈출하고 결과를 반환\n",
    "        for food in sorted_scoville:\n",
    "            if food >= K:\n",
    "                count += 1\n",
    "        if count == len(sorted_scoville):\n",
    "            break\n",
    "            return result\n",
    "        else:\n",
    "            # 카운트를 0으로 초기화\n",
    "            count = 0\n",
    "            # 만약 정렬된 스코빌 리스트의 길이가 1이고 항목이 K보다 작다면 -1 반환\n",
    "            if len(sorted_scoville) == 1 and sorted_scoville[0] < K:\n",
    "                return -1\n",
    "            # 만약 정렬된 스코빌 리스트의 길이가 1이고 항목이 K 이상이라면 result 반환\n",
    "            elif len(sorted_scoville) == 1 and sorted_scoville[0] >= K: \n",
    "                return result\n",
    "            # 섞기\n",
    "            else:\n",
    "                mixed_food = sorted_scoville[0] + sorted_scoville[1] * 2\n",
    "                # 섞은 두 음식을 리스트에서 제거하고, 맨 앞에 섞은 결과를 삽입\n",
    "                sorted_scoville = sorted_scoville[2:]\n",
    "                sorted_scoville.insert(0, mixed_food)\n",
    "                # 다시 오름차순 정렬\n",
    "                sorted_scoville.sort()\n",
    "                result += 1\n",
    "        \n",
    "    return result"
   ]
  },
  {
   "cell_type": "code",
   "execution_count": 2,
   "metadata": {
    "scrolled": false
   },
   "outputs": [
    {
     "data": {
      "text/plain": [
       "2"
      ]
     },
     "execution_count": 2,
     "metadata": {},
     "output_type": "execute_result"
    }
   ],
   "source": [
    "solution([1, 2, 3, 9, 10, 12], 7)"
   ]
  }
 ],
 "metadata": {
  "kernelspec": {
   "display_name": "Python 3",
   "language": "python",
   "name": "python3"
  },
  "language_info": {
   "codemirror_mode": {
    "name": "ipython",
    "version": 3
   },
   "file_extension": ".py",
   "mimetype": "text/x-python",
   "name": "python",
   "nbconvert_exporter": "python",
   "pygments_lexer": "ipython3",
   "version": "3.8.7"
  },
  "toc": {
   "base_numbering": 1,
   "nav_menu": {},
   "number_sections": true,
   "sideBar": true,
   "skip_h1_title": false,
   "title_cell": "Table of Contents",
   "title_sidebar": "Contents",
   "toc_cell": false,
   "toc_position": {},
   "toc_section_display": true,
   "toc_window_display": false
  }
 },
 "nbformat": 4,
 "nbformat_minor": 4
}
